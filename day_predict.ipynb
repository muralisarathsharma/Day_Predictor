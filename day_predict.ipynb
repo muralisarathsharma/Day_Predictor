{
 "cells": [
  {
   "cell_type": "code",
   "execution_count": 1,
   "id": "10438745",
   "metadata": {},
   "outputs": [],
   "source": [
    "def leap_year(year):\n",
    "    return (year%4==0 and year%100!=0) or (year%400==0)"
   ]
  },
  {
   "cell_type": "code",
   "execution_count": 2,
   "id": "f204c321",
   "metadata": {},
   "outputs": [],
   "source": [
    "def yearly_odd_days(year):\n",
    "    year = year - 1\n",
    "    cen = [400,300,200,100]\n",
    "    cen1 ={400:0,300:0,200:0,100:0}\n",
    "    for i in cen:\n",
    "        while(year>=i):\n",
    "            n = year//i\n",
    "            year = year%i\n",
    "            cen1[i] = n\n",
    "            \n",
    "    r = year+(year//4)\n",
    "    result = cen1[400]*0 + cen1[300]*1 + cen1[200]*3 +cen1[100]*5 +r\n",
    "    return result"
   ]
  },
  {
   "cell_type": "code",
   "execution_count": 3,
   "id": "3a43e2b5",
   "metadata": {},
   "outputs": [],
   "source": [
    "def monthly_odd_days(year,month,day):\n",
    "    count = 0\n",
    "    mon = {1:3,2:0,3:3,4:2,5:3,6:2,7:3,8:3,9:2,10:3,11:2,12:3}\n",
    "    if(leap_year(year)):\n",
    "        mon[2] = 1\n",
    "    for i in mon.keys():\n",
    "        if i<month:\n",
    "            count = count+mon[i]\n",
    "    count = count+day\n",
    "    return count"
   ]
  },
  {
   "cell_type": "code",
   "execution_count": 4,
   "id": "69a63e2d",
   "metadata": {},
   "outputs": [],
   "source": [
    "def day_of_the_date(odd_days):\n",
    "    odd_days = odd_days%7\n",
    "    days = {1:\"monday\",2:\"tuesday\",3:\"wednesday\",4:\"thursday\",5:\"friday\",6:\"saturday\",0:\"sunday\",7:\"sunday\"}\n",
    "    return days[odd_days]\n"
   ]
  },
  {
   "cell_type": "code",
   "execution_count": 5,
   "id": "1569d505",
   "metadata": {},
   "outputs": [],
   "source": [
    "def find_day():\n",
    "    date = input(\"enter date in dd/mm/yyyy format:\")\n",
    "    day,month,year = tuple(date.split(\"/\"))\n",
    "    odd_days = yearly_odd_days(int(year)) + monthly_odd_days(int(year),int(month),int(day))\n",
    "    r=day_of_the_date(odd_days)\n",
    "    r= r.capitalize()\n",
    "    print(f\"It was {r} on {date}\")\n",
    "    "
   ]
  },
  {
   "cell_type": "code",
   "execution_count": 6,
   "id": "9bcf5e0a",
   "metadata": {},
   "outputs": [
    {
     "name": "stdout",
     "output_type": "stream",
     "text": [
      "enter date in dd/mm/yyyy format:22/07/2004\n",
      "It was Thursday on 22/07/2004\n"
     ]
    }
   ],
   "source": [
    "find_day()"
   ]
  },
  {
   "cell_type": "code",
   "execution_count": null,
   "id": "3c37f98f",
   "metadata": {},
   "outputs": [],
   "source": []
  }
 ],
 "metadata": {
  "kernelspec": {
   "display_name": "Python 3 (ipykernel)",
   "language": "python",
   "name": "python3"
  },
  "language_info": {
   "codemirror_mode": {
    "name": "ipython",
    "version": 3
   },
   "file_extension": ".py",
   "mimetype": "text/x-python",
   "name": "python",
   "nbconvert_exporter": "python",
   "pygments_lexer": "ipython3",
   "version": "3.9.13"
  }
 },
 "nbformat": 4,
 "nbformat_minor": 5
}
